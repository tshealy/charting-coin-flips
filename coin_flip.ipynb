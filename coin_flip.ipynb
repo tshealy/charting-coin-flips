{
 "cells": [
  {
   "cell_type": "code",
   "execution_count": 2,
   "metadata": {
    "collapsed": true
   },
   "outputs": [],
   "source": [
    "import random\n",
    "import math\n",
    "import statistics as st\n",
    "import matplotlib.pyplot as plt"
   ]
  },
  {
   "cell_type": "code",
   "execution_count": 3,
   "metadata": {
    "collapsed": true
   },
   "outputs": [],
   "source": [
    "%matplotlib inline"
   ]
  },
  {
   "cell_type": "code",
   "execution_count": 7,
   "metadata": {
    "collapsed": true
   },
   "outputs": [],
   "source": [
    "def coin_flip():\n",
    "    return random.choice([\"heads\", \"tails\"])"
   ]
  },
  {
   "cell_type": "code",
   "execution_count": 8,
   "metadata": {
    "collapsed": true
   },
   "outputs": [],
   "source": [
    "def simulation(n=16):\n",
    "    count = 0\n",
    "    heads = 0\n",
    "    tails = 0\n",
    "    total_heads = []\n",
    "    total_tails = []\n",
    "    while count < 2 ** n:\n",
    "        flip = coin_flip()\n",
    "        if flip == \"heads\":\n",
    "            heads += 1\n",
    "        else:\n",
    "            tails += 1\n",
    "        count +=1\n",
    "        for num in range(n+1):\n",
    "            if count == 2**num:\n",
    "                total_heads.append(heads)\n",
    "                total_tails.append(tails)\n",
    "    return total_heads, total_tails      \n"
   ]
  },
  {
   "cell_type": "code",
   "execution_count": 9,
   "metadata": {
    "collapsed": true
   },
   "outputs": [],
   "source": [
    "h, t = simulation()"
   ]
  },
  {
   "cell_type": "code",
   "execution_count": 10,
   "metadata": {
    "collapsed": false,
    "scrolled": true
   },
   "outputs": [
    {
     "name": "stdout",
     "output_type": "stream",
     "text": [
      "[0, 1, 2, 3, 7, 15, 30, 64, 128, 259, 505, 980, 2000, 3994, 8079, 16287, 32769]\n",
      "[1, 1, 2, 5, 9, 17, 34, 64, 128, 253, 519, 1068, 2096, 4198, 8305, 16481, 32767]\n"
     ]
    }
   ],
   "source": [
    "print(h)\n",
    "print(t)"
   ]
  },
  {
   "cell_type": "markdown",
   "metadata": {},
   "source": [
    "#Difference Plots"
   ]
  },
  {
   "cell_type": "code",
   "execution_count": 12,
   "metadata": {
    "collapsed": false
   },
   "outputs": [],
   "source": [
    "d_list = [h[index] - t[index] for index in range(len(h))]\n"
   ]
  },
  {
   "cell_type": "code",
   "execution_count": 13,
   "metadata": {
    "collapsed": false
   },
   "outputs": [
    {
     "name": "stdout",
     "output_type": "stream",
     "text": [
      "[-1, 0, 0, -2, -2, -2, -4, 0, 0, 6, -14, -88, -96, -204, -226, -194, 2]\n"
     ]
    }
   ],
   "source": [
    "print(d_list)"
   ]
  },
  {
   "cell_type": "markdown",
   "metadata": {},
   "source": [
    "Line Plot"
   ]
  },
  {
   "cell_type": "code",
   "execution_count": 38,
   "metadata": {
    "collapsed": false,
    "scrolled": false
   },
   "outputs": [
    {
     "data": {
      "image/png": "[encoded data removed]",
      "text/plain": [
       "<matplotlib.figure.Figure at 0x10b26a128>"
      ]
     },
     "metadata": {},
     "output_type": "display_data"
    }
   ],
   "source": [
    "x_title = [\"2**\" + str(i) for i in range(17)]\n",
    "plt.plot(d_list)\n",
    "plt.xticks(range(17), x_title)\n",
    "plt.xlabel(\"Number of Flips\")\n",
    "plt.ylabel(\"Difference Between Flips\")\n",
    "plt.title(\"Flips\")\n",
    "plt.subplots_adjust(left=2, right=3.5)\n",
    "plt.show()"
   ]
  },
  {
   "cell_type": "markdown",
   "metadata": {},
   "source": [
    "Notes: The difference between heads and tails appears to increase with more flips but this is not actually true because as the difference becomes greater the total number of flips is also increasing. "
   ]
  },
  {
   "cell_type": "markdown",
   "metadata": {},
   "source": [
    "Scatter Plot"
   ]
  },
  {
   "cell_type": "code",
   "execution_count": 66,
   "metadata": {
    "collapsed": false,
    "scrolled": false
   },
   "outputs": [
    {
     "data": {
      "image/png": "[encoded data removed]",
      "text/plain": [
       "<matplotlib.figure.Figure at 0x10c8323c8>"
      ]
     },
     "metadata": {},
     "output_type": "display_data"
    }
   ],
   "source": [
    "x_diff_scatter = [2**n for n in range(17)]\n",
    "y_diff_scatter = d_list\n",
    "plt.scatter(x_diff_scatter, y_diff_scatter)\n",
    "plt.xscale('log')\n",
    "plt.xlabel(\"Number of Flips\")\n",
    "plt.ylabel(\"Difference Between Flips\")\n",
    "plt.title(\"Flips\")\n",
    "xmin, xmax, ymin, ymax = plt.axis()\n",
    "plt.axis([.9, xmax, ymin, ymax])\n",
    "plt.subplots_adjust(left=2, right=3.5)\n",
    "plt.show()"
   ]
  },
  {
   "cell_type": "markdown",
   "metadata": {},
   "source": [
    "Notes: The 17 points represent the difference between the number of heads and tails at that number of flips. The scatter plot looks similar to the line plot because the x axis is a log of 2 and 10. "
   ]
  },
  {
   "cell_type": "markdown",
   "metadata": {},
   "source": [
    "#Ratio Plots"
   ]
  },
  {
   "cell_type": "code",
   "execution_count": 39,
   "metadata": {
    "collapsed": true
   },
   "outputs": [],
   "source": [
    "ratio = [h[index] / t[index] for index in range(len(h))]"
   ]
  },
  {
   "cell_type": "markdown",
   "metadata": {},
   "source": [
    "Line Plot"
   ]
  },
  {
   "cell_type": "code",
   "execution_count": 143,
   "metadata": {
    "collapsed": false,
    "scrolled": true
   },
   "outputs": [
    {
     "data": {
      "image/png": "[encoded data removed]",
      "text/plain": [
       "<matplotlib.figure.Figure at 0x10bffdd30>"
      ]
     },
     "metadata": {},
     "output_type": "display_data"
    }
   ],
   "source": [
    "x_title = [\"2**\" + str(i) for i in range(17)]\n",
    "plt.plot(ratio)\n",
    "plt.xticks(range(17), x_title)\n",
    "plt.xlabel(\"Number of Flips\")\n",
    "plt.ylabel(\"Ratio: Head/Tails\")\n",
    "plt.title(\"Flips\")\n",
    "plt.subplots_adjust(left=2, right=3.5)\n",
    "plt.show()"
   ]
  },
  {
   "cell_type": "markdown",
   "metadata": {},
   "source": [
    "Notes: The ratio increases from 0 to 1 on, or close, to the second coin flip. The variation is noticable with fewer flips. However, as teh number of flips increases the ratio becauses closer to 50/50 odds."
   ]
  },
  {
   "cell_type": "markdown",
   "metadata": {},
   "source": [
    "Scatter Plot"
   ]
  },
  {
   "cell_type": "code",
   "execution_count": 142,
   "metadata": {
    "collapsed": false
   },
   "outputs": [
    {
     "data": {
      "image/png": "[encoded data removed]",
      "text/plain": [
       "<matplotlib.figure.Figure at 0x10c678400>"
      ]
     },
     "metadata": {},
     "output_type": "display_data"
    }
   ],
   "source": [
    "x_ratio_scatter = [2**n for n in range(17)]\n",
    "y_ratio_scatter = ratio\n",
    "plt.scatter(x_ratio_scatter, y_ratio_scatter)\n",
    "plt.xscale('log')\n",
    "plt.xlabel(\"Number of Flips\")\n",
    "plt.ylabel(\"Ratio: Head/Tails\")\n",
    "plt.title(\"Flips\")\n",
    "xmin, xmax, ymin, ymax = plt.axis()\n",
    "plt.axis([.9, xmax, ymin, ymax])\n",
    "plt.subplots_adjust(left=2, right=3.5)\n",
    "plt.show()"
   ]
  },
  {
   "cell_type": "markdown",
   "metadata": {},
   "source": [
    "#Multiple Simulations"
   ]
  },
  {
   "cell_type": "code",
   "execution_count": 118,
   "metadata": {
    "collapsed": false
   },
   "outputs": [],
   "source": [
    "def multi_sim(num=20):\n",
    "    ratio_dict = {}\n",
    "    for j in range(17):\n",
    "        ratio_dict[j] = []\n",
    "    for i in range(num):\n",
    "        h, t = simulation()\n",
    "        for x in range(len(h)):\n",
    "            if t[x] != 0: \n",
    "                ratio_dict[x].append(h[x]/t[x])\n",
    "            else:\n",
    "                ratio_dict[x].append(0)\n",
    "    return ratio_dict"
   ]
  },
  {
   "cell_type": "code",
   "execution_count": 122,
   "metadata": {
    "collapsed": false
   },
   "outputs": [],
   "source": [
    "multi_sim_by_round = multi_sim()"
   ]
  },
  {
   "cell_type": "code",
   "execution_count": 123,
   "metadata": {
    "collapsed": false
   },
   "outputs": [
    {
     "data": {
      "text/plain": [
       "20"
      ]
     },
     "execution_count": 123,
     "metadata": {},
     "output_type": "execute_result"
    }
   ],
   "source": [
    "len(multi_sim_by_round[2])"
   ]
  },
  {
   "cell_type": "code",
   "execution_count": 126,
   "metadata": {
    "collapsed": false
   },
   "outputs": [
    {
     "name": "stdout",
     "output_type": "stream",
     "text": [
      "[1.0, 0.0, 0, 1.0, 1.0, 0, 1.0, 0.0, 1.0, 1.0, 0.0, 1.0, 1.0, 0, 1.0, 1.0, 1.0, 1.0, 0.0, 0.0]\n"
     ]
    }
   ],
   "source": [
    "print(multi_sim_by_round[1])"
   ]
  },
  {
   "cell_type": "markdown",
   "metadata": {},
   "source": [
    "Mean of ratios for each round"
   ]
  },
  {
   "cell_type": "code",
   "execution_count": 145,
   "metadata": {
    "collapsed": false
   },
   "outputs": [],
   "source": [
    "def mean_ratios(multi_sim_by_round):\n",
    "    return [st.mean(v) for k, v in multi_sim_by_round.items()]"
   ]
  },
  {
   "cell_type": "raw",
   "metadata": {},
   "source": [
    "ratio = mean_ratios(multi_sim_by_round)"
   ]
  },
  {
   "cell_type": "code",
   "execution_count": 146,
   "metadata": {
    "collapsed": false
   },
   "outputs": [
    {
     "name": "stdout",
     "output_type": "stream",
     "text": [
      "[0.0, 1.0, 1.0, 0.6, 0.7777777777777778, 0.8823529411764706, 0.8823529411764706, 1.0, 1.0, 1.023715415019763, 0.9730250481695568, 0.9176029962546817, 0.9541984732824428, 0.9514054311576942, 0.972787477423239, 0.9882288696074267, 1.000061037018952]\n"
     ]
    }
   ],
   "source": [
    "print(ratio)"
   ]
  },
  {
   "cell_type": "code",
   "execution_count": 153,
   "metadata": {
    "collapsed": false,
    "scrolled": true
   },
   "outputs": [
    {
     "data": {
      "image/png": "[encoded data removed]",
      "text/plain": [
       "<matplotlib.figure.Figure at 0x10c810f60>"
      ]
     },
     "metadata": {},
     "output_type": "display_data"
    }
   ],
   "source": [
    "x_mean_ratio = [2**n for n in range(17)]\n",
    "y_mean_ratio = ratio\n",
    "plt.scatter(x_mean_ratio, y_mean_ratio)\n",
    "plt.xscale('log')\n",
    "plt.xlabel(\"Number of Flips\")\n",
    "plt.ylabel(\"Ratio: Heads/Tails\")\n",
    "plt.title(\"Flips Ratio of Heads to Tails\")\n",
    "xmin, xmax, ymin, ymax = plt.axis()\n",
    "plt.axis([.9, xmax, ymin, ymax])\n",
    "plt.subplots_adjust(left=2, right=3.5)\n",
    "plt.show()"
   ]
  },
  {
   "cell_type": "markdown",
   "metadata": {},
   "source": [
    "Notes: The ratio between heads and tails becomes closer to one with more flips. "
   ]
  },
  {
   "cell_type": "code",
   "execution_count": 144,
   "metadata": {
    "collapsed": true
   },
   "outputs": [],
   "source": [
    "def stdev_ratios(multi_sim_by_round):\n",
    "    return [st.stdev(v) for k, v in multi_sim_by_round.items()]"
   ]
  },
  {
   "cell_type": "code",
   "execution_count": 150,
   "metadata": {
    "collapsed": false
   },
   "outputs": [],
   "source": [
    "st_dev = stdev_ratios(multi_sim_by_round)"
   ]
  },
  {
   "cell_type": "code",
   "execution_count": 152,
   "metadata": {
    "collapsed": false,
    "scrolled": true
   },
   "outputs": [
    {
     "data": {
      "image/png": "[encoded data removed]",
      "text/plain": [
       "<matplotlib.figure.Figure at 0x10c5d46a0>"
      ]
     },
     "metadata": {},
     "output_type": "display_data"
    }
   ],
   "source": [
    "x_st_ratio = [2**n for n in range(17)]\n",
    "y_st_ratio = st_dev\n",
    "plt.scatter(x_st_ratio, y_st_ratio)\n",
    "plt.xscale('log')\n",
    "plt.xlabel(\"Number of Flips\")\n",
    "plt.ylabel(\"Standard Deviation\")\n",
    "plt.title(\"Standard Deviation of Ratio Heads/Tails\")\n",
    "xmin, xmax, ymin, ymax = plt.axis()\n",
    "plt.axis([.9, xmax, ymin, ymax])\n",
    "plt.subplots_adjust(left=2, right=3.5)\n",
    "plt.show()"
   ]
  },
  {
   "cell_type": "markdown",
   "metadata": {},
   "source": [
    "Notes: The standard deviation becomes closer to 0 with more flips because the difference between heads and tails is less."
   ]
  },
  {
   "cell_type": "code",
   "execution_count": 159,
   "metadata": {
    "collapsed": false
   },
   "outputs": [],
   "source": [
    "def flip_n(n=100):\n",
    "    count = 0\n",
    "    heads = 0\n",
    "    tails = 0\n",
    "    while count < n:\n",
    "        flip = coin_flip()\n",
    "        if flip == \"heads\":\n",
    "            heads += 1\n",
    "        else:\n",
    "            tails += 1\n",
    "        count +=1\n",
    "    ratio = heads/tails\n",
    "    return ratio\n",
    "    "
   ]
  },
  {
   "cell_type": "code",
   "execution_count": 160,
   "metadata": {
    "collapsed": false
   },
   "outputs": [],
   "source": [
    "flip_ratio = flip_n()"
   ]
  },
  {
   "cell_type": "code",
   "execution_count": 161,
   "metadata": {
    "collapsed": false
   },
   "outputs": [
    {
     "name": "stdout",
     "output_type": "stream",
     "text": [
      "1.127659574468085\n"
     ]
    }
   ],
   "source": [
    "print(flip_ratio)"
   ]
  },
  {
   "cell_type": "code",
   "execution_count": 163,
   "metadata": {
    "collapsed": false
   },
   "outputs": [],
   "source": [
    "number_of_trials = 100000\n",
    "def trial(number_of_trials, n=100):\n",
    "    results = [flip_n(n) for i in range(number_of_trials)]\n",
    "    return results\n",
    "    "
   ]
  },
  {
   "cell_type": "code",
   "execution_count": 164,
   "metadata": {
    "collapsed": true
   },
   "outputs": [],
   "source": [
    "trial_results = trial(number_of_trials)"
   ]
  },
  {
   "cell_type": "code",
   "execution_count": 165,
   "metadata": {
    "collapsed": false
   },
   "outputs": [
    {
     "data": {
      "text/plain": [
       "100000"
      ]
     },
     "execution_count": 165,
     "metadata": {},
     "output_type": "execute_result"
    }
   ],
   "source": [
    "len(trial_results)"
   ]
  },
  {
   "cell_type": "code",
   "execution_count": 166,
   "metadata": {
    "collapsed": false
   },
   "outputs": [
    {
     "name": "stdout",
     "output_type": "stream",
     "text": [
      "1.127659574468085\n"
     ]
    }
   ],
   "source": [
    "print(trial_results[700])"
   ]
  },
  {
   "cell_type": "code",
   "execution_count": 167,
   "metadata": {
    "collapsed": true
   },
   "outputs": [],
   "source": [
    "trial_by_1000 = trial(100000, 1000)"
   ]
  },
  {
   "cell_type": "code",
   "execution_count": 168,
   "metadata": {
    "collapsed": false
   },
   "outputs": [
    {
     "data": {
      "text/plain": [
       "100000"
      ]
     },
     "execution_count": 168,
     "metadata": {},
     "output_type": "execute_result"
    }
   ],
   "source": [
    "len(trial_by_1000)"
   ]
  },
  {
   "cell_type": "code",
   "execution_count": 187,
   "metadata": {
    "collapsed": false
   },
   "outputs": [
    {
     "data": {
      "image/png": "[encoded data removed]",
      "text/plain": [
       "<matplotlib.figure.Figure at 0x10bfa24e0>"
      ]
     },
     "metadata": {},
     "output_type": "display_data"
    }
   ],
   "source": [
    "plt.hist(trial_results, bins=100)\n",
    "plt.xlabel(\"Ratio\")\n",
    "plt.ylabel(\"Frequency\")\n",
    "plt.title(\"Ratio of Heads/Tails by Frequency\")\n",
    "ymin, ymax = plt.ylim()\n",
    "mean = statistics.mean(trial_results)\n",
    "stdev = statistics.stdev(trial_results)\n",
    "plt.vlines(mean, ymin, ymax, color=\"red\")\n",
    "plt.vlines([mean - 2 * stdev, mean - stdev, mean + stdev, mean + 2 * stdev], ymin, ymax, linestyles=\"dashed\", color=\"red\")\n",
    "plt.text(1.7, 4800, \"Mean is solid line\")\n",
    "plt.text(1.7, 4000, \"StDev 1,2\")\n",
    "plt.text(1.7, 3500, \"are dashed lines\")\n",
    "plt.show()"
   ]
  },
  {
   "cell_type": "code",
   "execution_count": 185,
   "metadata": {
    "collapsed": false,
    "scrolled": false
   },
   "outputs": [
    {
     "data": {
      "image/png": "[encoded data removed]",
      "text/plain": [
       "<matplotlib.figure.Figure at 0x10c437d30>"
      ]
     },
     "metadata": {},
     "output_type": "display_data"
    }
   ],
   "source": [
    "plt.hist(trial_by_1000, bins=75)\n",
    "plt.xlabel(\"Ratio\")\n",
    "plt.ylabel(\"Frequency\")\n",
    "plt.title(\"Ratio of Heads/Tails by Frequency\")\n",
    "ymin, ymax = plt.ylim()\n",
    "mean = st.mean(trial_by_1000)\n",
    "stdev = st.stdev(trial_by_1000)\n",
    "plt.vlines(mean, ymin, ymax, color=\"red\")\n",
    "plt.vlines([mean - 2 * stdev, mean - stdev, mean + stdev, mean + 2 * stdev], ymin, ymax, linestyles=\"dashed\", color=\"red\")\n",
    "plt.text(1.2, 4800, \"Mean is solid line\")\n",
    "plt.text(1.2, 4000, \"StDev 1,2\")\n",
    "plt.text(1.2, 3500, \"are dashed lines\")\n",
    "plt.show()"
   ]
  },
  {
   "cell_type": "markdown",
   "metadata": {},
   "source": [
    "Notes: The bell curve comes closer to 0 because the amount of flips increases from 100 to 1000 per round. "
   ]
  },
  {
   "cell_type": "code",
   "execution_count": 191,
   "metadata": {
    "collapsed": false
   },
   "outputs": [
    {
     "data": {
      "image/png": "[encoded data removed]",
      "text/plain": [
       "<matplotlib.figure.Figure at 0x10c05a4e0>"
      ]
     },
     "metadata": {},
     "output_type": "display_data"
    }
   ],
   "source": [
    "plt.boxplot([trial_by_1000, trial_results])\n",
    "ymin, ymax = plt.ylim()\n",
    "plt.ylim(ymin - .1, ymax + .2)\n",
    "plt.title(\"Comparison of Ratios Heads/Tails 1000 and 100\")\n",
    "plt.ylabel(\"Ratio\")\n",
    "plt.xticks(range(1,3), [\"Trial by 1000\", \"Trial by 100\"])\n",
    "plt.show()"
   ]
  },
  {
   "cell_type": "markdown",
   "metadata": {
    "collapsed": true
   },
   "source": [
    "Notes: The outliers become less as the number of flips per round increases by 10. "
   ]
  },
  {
   "cell_type": "code",
   "execution_count": null,
   "metadata": {
    "collapsed": false
   },
   "outputs": [],
   "source": []
  },
  {
   "cell_type": "code",
   "execution_count": null,
   "metadata": {
    "collapsed": true
   },
   "outputs": [],
   "source": []
  }
 ],
 "metadata": {
  "kernelspec": {
   "display_name": "Python 3",
   "language": "python",
   "name": "python3"
  },
  "language_info": {
   "codemirror_mode": {
    "name": "ipython",
    "version": 3
   },
   "file_extension": ".py",
   "mimetype": "text/x-python",
   "name": "python",
   "nbconvert_exporter": "python",
   "pygments_lexer": "ipython3",
   "version": "3.4.3"
  }
 },
 "nbformat": 4,
 "nbformat_minor": 0
}
