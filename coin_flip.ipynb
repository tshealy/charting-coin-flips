{
 "cells": [
  {
   "cell_type": "code",
   "execution_count": 13,
   "metadata": {
    "collapsed": true
   },
   "outputs": [],
   "source": [
    "import random\n",
    "import math\n",
    "import statistics as st\n",
    "import matplotlib.pyplot as plt\n",
    "from matplotlib.colors import colorConverter"
   ]
  },
  {
   "cell_type": "code",
   "execution_count": 2,
   "metadata": {
    "collapsed": true
   },
   "outputs": [],
   "source": [
    "%matplotlib inline"
   ]
  },
  {
   "cell_type": "code",
   "execution_count": 3,
   "metadata": {
    "collapsed": true
   },
   "outputs": [],
   "source": [
    "def coin_flip():\n",
    "    return random.choice([\"heads\", \"tails\"])"
   ]
  },
  {
   "cell_type": "code",
   "execution_count": 4,
   "metadata": {
    "collapsed": true
   },
   "outputs": [],
   "source": [
    "def simulation(n=16):\n",
    "    count = 0\n",
    "    heads = 0\n",
    "    tails = 0\n",
    "    total_heads = []\n",
    "    total_tails = []\n",
    "    while count < 2 ** n:\n",
    "        flip = coin_flip()\n",
    "        if flip == \"heads\":\n",
    "            heads += 1\n",
    "        else:\n",
    "            tails += 1\n",
    "        count +=1\n",
    "        for num in range(n+1):\n",
    "            if count == 2**num:\n",
    "                total_heads.append(heads)\n",
    "                total_tails.append(tails)\n",
    "    return total_heads, total_tails      \n"
   ]
  },
  {
   "cell_type": "code",
   "execution_count": 5,
   "metadata": {
    "collapsed": true
   },
   "outputs": [],
   "source": [
    "h, t = simulation()"
   ]
  },
  {
   "cell_type": "code",
   "execution_count": 6,
   "metadata": {
    "collapsed": false,
    "scrolled": true
   },
   "outputs": [
    {
     "name": "stdout",
     "output_type": "stream",
     "text": [
      "[0, 0, 2, 4, 8, 16, 32, 63, 119, 249, 494, 1000, 2011, 4094, 8183, 16343, 32817]\n",
      "[1, 2, 2, 4, 8, 16, 32, 65, 137, 263, 530, 1048, 2085, 4098, 8201, 16425, 32719]\n"
     ]
    }
   ],
   "source": [
    "print(h)\n",
    "print(t)"
   ]
  },
  {
   "cell_type": "markdown",
   "metadata": {},
   "source": [
    "#Difference Plots"
   ]
  },
  {
   "cell_type": "code",
   "execution_count": 7,
   "metadata": {
    "collapsed": false
   },
   "outputs": [],
   "source": [
    "d_list = [h[index] - t[index] for index in range(len(h))]\n"
   ]
  },
  {
   "cell_type": "code",
   "execution_count": 8,
   "metadata": {
    "collapsed": false
   },
   "outputs": [
    {
     "name": "stdout",
     "output_type": "stream",
     "text": [
      "[-1, -2, 0, 0, 0, 0, 0, -2, -18, -14, -36, -48, -74, -4, -18, -82, 98]\n"
     ]
    }
   ],
   "source": [
    "print(d_list)"
   ]
  },
  {
   "cell_type": "markdown",
   "metadata": {},
   "source": [
    "Line Plot"
   ]
  },
  {
   "cell_type": "code",
   "execution_count": 9,
   "metadata": {
    "collapsed": false,
    "scrolled": false
   },
   "outputs": [
    {
     "data": {
      "image/png": "[encoded data removed]",
      "text/plain": [
       "<matplotlib.figure.Figure at 0x107cb7358>"
      ]
     },
     "metadata": {},
     "output_type": "display_data"
    }
   ],
   "source": [
    "x_title = [\"2**\" + str(i) for i in range(17)]\n",
    "plt.plot(d_list)\n",
    "plt.xticks(range(17), x_title)\n",
    "plt.xlabel(\"Number of Flips\")\n",
    "plt.ylabel(\"Difference Between Flips\")\n",
    "plt.title(\"Flips\")\n",
    "plt.subplots_adjust(left=2, right=3.5)\n",
    "plt.show()"
   ]
  },
  {
   "cell_type": "markdown",
   "metadata": {},
   "source": [
    "Notes: The difference between heads and tails appears to increase with more flips but this is not actually true because as the difference becomes greater the total number of flips is also increasing. "
   ]
  },
  {
   "cell_type": "markdown",
   "metadata": {},
   "source": [
    "Scatter Plot"
   ]
  },
  {
   "cell_type": "code",
   "execution_count": 17,
   "metadata": {
    "collapsed": false,
    "scrolled": false
   },
   "outputs": [
    {
     "data": {
      "image/png": "[encoded data removed]",
      "text/plain": [
       "<matplotlib.figure.Figure at 0x1081bd470>"
      ]
     },
     "metadata": {},
     "output_type": "display_data"
    }
   ],
   "source": [
    "x_diff_scatter = [2**n for n in range(17)]\n",
    "y_diff_scatter = d_list\n",
    "colors = [colorConverter.to_rgba(c) for c in ('r','g','b','c','y','m','k')]\n",
    "plt.scatter(x_diff_scatter, y_diff_scatter).set_color(colors)\n",
    "plt.xscale('log')\n",
    "plt.xlabel(\"Number of Flips\")\n",
    "plt.ylabel(\"Difference Between Flips\")\n",
    "plt.title(\"Flips\")\n",
    "xmin, xmax, ymin, ymax = plt.axis()\n",
    "plt.axis([.9, xmax, ymin, ymax])\n",
    "plt.subplots_adjust(left=2, right=3.5)\n",
    "plt.show()"
   ]
  },
  {
   "cell_type": "markdown",
   "metadata": {},
   "source": [
    "Notes: The 17 points represent the difference between the number of heads and tails at that number of flips. The scatter plot looks similar to the line plot because the x axis is a log of 2 and 10. "
   ]
  },
  {
   "cell_type": "markdown",
   "metadata": {},
   "source": [
    "#Ratio Plots"
   ]
  },
  {
   "cell_type": "code",
   "execution_count": 18,
   "metadata": {
    "collapsed": true
   },
   "outputs": [],
   "source": [
    "ratio = [h[index] / t[index] for index in range(len(h))]"
   ]
  },
  {
   "cell_type": "markdown",
   "metadata": {},
   "source": [
    "Line Plot"
   ]
  },
  {
   "cell_type": "code",
   "execution_count": 19,
   "metadata": {
    "collapsed": false,
    "scrolled": true
   },
   "outputs": [
    {
     "data": {
      "image/png": "[encoded data removed]",
      "text/plain": [
       "<matplotlib.figure.Figure at 0x107ce27f0>"
      ]
     },
     "metadata": {},
     "output_type": "display_data"
    }
   ],
   "source": [
    "x_title = [\"2**\" + str(i) for i in range(17)]\n",
    "plt.plot(ratio)\n",
    "plt.xticks(range(17), x_title)\n",
    "plt.xlabel(\"Number of Flips\")\n",
    "plt.ylabel(\"Ratio: Head/Tails\")\n",
    "plt.title(\"Flips\")\n",
    "plt.subplots_adjust(left=2, right=3.5)\n",
    "plt.show()"
   ]
  },
  {
   "cell_type": "markdown",
   "metadata": {},
   "source": [
    "Notes: The ratio increases from 0 to 1 on, or close, to the second coin flip. The variation is noticable with fewer flips. However, as teh number of flips increases the ratio becauses closer to 50/50 odds."
   ]
  },
  {
   "cell_type": "markdown",
   "metadata": {},
   "source": [
    "Scatter Plot"
   ]
  },
  {
   "cell_type": "code",
   "execution_count": 20,
   "metadata": {
    "collapsed": false
   },
   "outputs": [
    {
     "data": {
      "image/png": "[encoded data removed]",
      "text/plain": [
       "<matplotlib.figure.Figure at 0x107f0be48>"
      ]
     },
     "metadata": {},
     "output_type": "display_data"
    }
   ],
   "source": [
    "x_ratio_scatter = [2**n for n in range(17)]\n",
    "y_ratio_scatter = ratio\n",
    "plt.scatter(x_ratio_scatter, y_ratio_scatter)\n",
    "plt.xscale('log')\n",
    "plt.xlabel(\"Number of Flips\")\n",
    "plt.ylabel(\"Ratio: Head/Tails\")\n",
    "plt.title(\"Flips\")\n",
    "xmin, xmax, ymin, ymax = plt.axis()\n",
    "plt.axis([.9, xmax, ymin, ymax])\n",
    "plt.subplots_adjust(left=2, right=3.5)\n",
    "plt.show()"
   ]
  },
  {
   "cell_type": "markdown",
   "metadata": {},
   "source": [
    "#Multiple Simulations"
   ]
  },
  {
   "cell_type": "code",
   "execution_count": 21,
   "metadata": {
    "collapsed": false
   },
   "outputs": [],
   "source": [
    "def multi_sim(num=20):\n",
    "    ratio_dict = {}\n",
    "    for j in range(17):\n",
    "        ratio_dict[j] = []\n",
    "    for i in range(num):\n",
    "        h, t = simulation()\n",
    "        for x in range(len(h)):\n",
    "            if t[x] != 0: \n",
    "                ratio_dict[x].append(h[x]/t[x])\n",
    "            else:\n",
    "                ratio_dict[x].append(0)\n",
    "    return ratio_dict"
   ]
  },
  {
   "cell_type": "code",
   "execution_count": 22,
   "metadata": {
    "collapsed": false
   },
   "outputs": [],
   "source": [
    "multi_sim_by_round = multi_sim()"
   ]
  },
  {
   "cell_type": "code",
   "execution_count": 23,
   "metadata": {
    "collapsed": false
   },
   "outputs": [
    {
     "data": {
      "text/plain": [
       "20"
      ]
     },
     "execution_count": 23,
     "metadata": {},
     "output_type": "execute_result"
    }
   ],
   "source": [
    "len(multi_sim_by_round[2])"
   ]
  },
  {
   "cell_type": "code",
   "execution_count": 24,
   "metadata": {
    "collapsed": false
   },
   "outputs": [
    {
     "name": "stdout",
     "output_type": "stream",
     "text": [
      "[1.0, 1.0, 0, 0, 1.0, 0, 1.0, 0.0, 0, 1.0, 1.0, 0.0, 1.0, 1.0, 0.0, 0.0, 1.0, 1.0, 1.0, 0]\n"
     ]
    }
   ],
   "source": [
    "print(multi_sim_by_round[1])"
   ]
  },
  {
   "cell_type": "markdown",
   "metadata": {},
   "source": [
    "Mean of ratios for each round"
   ]
  },
  {
   "cell_type": "code",
   "execution_count": 25,
   "metadata": {
    "collapsed": false
   },
   "outputs": [],
   "source": [
    "def mean_ratios(multi_sim_by_round):\n",
    "    return [st.mean(v) for k, v in multi_sim_by_round.items()]"
   ]
  },
  {
   "cell_type": "raw",
   "metadata": {},
   "source": [
    "ratio = mean_ratios(multi_sim_by_round)"
   ]
  },
  {
   "cell_type": "code",
   "execution_count": 26,
   "metadata": {
    "collapsed": false
   },
   "outputs": [
    {
     "name": "stdout",
     "output_type": "stream",
     "text": [
      "[0.0, 0.0, 1.0, 1.0, 1.0, 1.0, 1.0, 0.9692307692307692, 0.8686131386861314, 0.9467680608365019, 0.9320754716981132, 0.9541984732824428, 0.9645083932853717, 0.9990239141044412, 0.9978051457139373, 0.9950076103500761, 1.00299520156484]\n"
     ]
    }
   ],
   "source": [
    "print(ratio)"
   ]
  },
  {
   "cell_type": "code",
   "execution_count": 27,
   "metadata": {
    "collapsed": false,
    "scrolled": true
   },
   "outputs": [
    {
     "data": {
      "image/png": "[encoded data removed]",
      "text/plain": [
       "<matplotlib.figure.Figure at 0x10805b0f0>"
      ]
     },
     "metadata": {},
     "output_type": "display_data"
    }
   ],
   "source": [
    "x_mean_ratio = [2**n for n in range(17)]\n",
    "y_mean_ratio = ratio\n",
    "plt.scatter(x_mean_ratio, y_mean_ratio)\n",
    "plt.xscale('log')\n",
    "plt.xlabel(\"Number of Flips\")\n",
    "plt.ylabel(\"Ratio: Heads/Tails\")\n",
    "plt.title(\"Flips Ratio of Heads to Tails\")\n",
    "xmin, xmax, ymin, ymax = plt.axis()\n",
    "plt.axis([.9, xmax, ymin, ymax])\n",
    "plt.subplots_adjust(left=2, right=3.5)\n",
    "plt.show()"
   ]
  },
  {
   "cell_type": "markdown",
   "metadata": {},
   "source": [
    "Notes: The ratio between heads and tails becomes closer to one with more flips. "
   ]
  },
  {
   "cell_type": "code",
   "execution_count": 28,
   "metadata": {
    "collapsed": true
   },
   "outputs": [],
   "source": [
    "def stdev_ratios(multi_sim_by_round):\n",
    "    return [st.stdev(v) for k, v in multi_sim_by_round.items()]"
   ]
  },
  {
   "cell_type": "code",
   "execution_count": 29,
   "metadata": {
    "collapsed": false
   },
   "outputs": [],
   "source": [
    "st_dev = stdev_ratios(multi_sim_by_round)"
   ]
  },
  {
   "cell_type": "code",
   "execution_count": 30,
   "metadata": {
    "collapsed": false,
    "scrolled": true
   },
   "outputs": [
    {
     "data": {
      "image/png": "[encoded data removed]",
      "text/plain": [
       "<matplotlib.figure.Figure at 0x1084a6390>"
      ]
     },
     "metadata": {},
     "output_type": "display_data"
    }
   ],
   "source": [
    "x_st_ratio = [2**n for n in range(17)]\n",
    "y_st_ratio = st_dev\n",
    "plt.scatter(x_st_ratio, y_st_ratio)\n",
    "plt.xscale('log')\n",
    "plt.xlabel(\"Number of Flips\")\n",
    "plt.ylabel(\"Standard Deviation\")\n",
    "plt.title(\"Standard Deviation of Ratio Heads/Tails\")\n",
    "xmin, xmax, ymin, ymax = plt.axis()\n",
    "plt.axis([.9, xmax, ymin, ymax])\n",
    "plt.subplots_adjust(left=2, right=3.5)\n",
    "plt.show()"
   ]
  },
  {
   "cell_type": "markdown",
   "metadata": {},
   "source": [
    "Notes: The standard deviation becomes closer to 0 with more flips because the difference between heads and tails is less."
   ]
  },
  {
   "cell_type": "code",
   "execution_count": 31,
   "metadata": {
    "collapsed": false
   },
   "outputs": [],
   "source": [
    "def flip_n(n=100):\n",
    "    count = 0\n",
    "    heads = 0\n",
    "    tails = 0\n",
    "    while count < n:\n",
    "        flip = coin_flip()\n",
    "        if flip == \"heads\":\n",
    "            heads += 1\n",
    "        else:\n",
    "            tails += 1\n",
    "        count +=1\n",
    "    ratio = heads/tails\n",
    "    return ratio\n",
    "    "
   ]
  },
  {
   "cell_type": "code",
   "execution_count": 32,
   "metadata": {
    "collapsed": false
   },
   "outputs": [],
   "source": [
    "flip_ratio = flip_n()"
   ]
  },
  {
   "cell_type": "code",
   "execution_count": 33,
   "metadata": {
    "collapsed": false
   },
   "outputs": [
    {
     "name": "stdout",
     "output_type": "stream",
     "text": [
      "1.0833333333333333\n"
     ]
    }
   ],
   "source": [
    "print(flip_ratio)"
   ]
  },
  {
   "cell_type": "code",
   "execution_count": 34,
   "metadata": {
    "collapsed": false
   },
   "outputs": [],
   "source": [
    "number_of_trials = 100000\n",
    "def trial(number_of_trials, n=100):\n",
    "    results = [flip_n(n) for i in range(number_of_trials)]\n",
    "    return results\n",
    "    "
   ]
  },
  {
   "cell_type": "code",
   "execution_count": 35,
   "metadata": {
    "collapsed": true
   },
   "outputs": [],
   "source": [
    "trial_results = trial(number_of_trials)"
   ]
  },
  {
   "cell_type": "code",
   "execution_count": 36,
   "metadata": {
    "collapsed": false
   },
   "outputs": [
    {
     "data": {
      "text/plain": [
       "100000"
      ]
     },
     "execution_count": 36,
     "metadata": {},
     "output_type": "execute_result"
    }
   ],
   "source": [
    "len(trial_results)"
   ]
  },
  {
   "cell_type": "code",
   "execution_count": 37,
   "metadata": {
    "collapsed": false
   },
   "outputs": [
    {
     "name": "stdout",
     "output_type": "stream",
     "text": [
      "1.173913043478261\n"
     ]
    }
   ],
   "source": [
    "print(trial_results[700])"
   ]
  },
  {
   "cell_type": "code",
   "execution_count": 38,
   "metadata": {
    "collapsed": true
   },
   "outputs": [],
   "source": [
    "trial_by_1000 = trial(100000, 1000)"
   ]
  },
  {
   "cell_type": "code",
   "execution_count": 39,
   "metadata": {
    "collapsed": false
   },
   "outputs": [
    {
     "data": {
      "text/plain": [
       "100000"
      ]
     },
     "execution_count": 39,
     "metadata": {},
     "output_type": "execute_result"
    }
   ],
   "source": [
    "len(trial_by_1000)"
   ]
  },
  {
   "cell_type": "code",
   "execution_count": 42,
   "metadata": {
    "collapsed": false
   },
   "outputs": [
    {
     "data": {
      "image/png": "[encoded data removed]",
      "text/plain": [
       "<matplotlib.figure.Figure at 0x108d9ca58>"
      ]
     },
     "metadata": {},
     "output_type": "display_data"
    }
   ],
   "source": [
    "plt.hist(trial_results, bins=100)\n",
    "plt.xlabel(\"Ratio\")\n",
    "plt.ylabel(\"Frequency\")\n",
    "plt.title(\"Ratio of Heads/Tails by Frequency\")\n",
    "ymin, ymax = plt.ylim()\n",
    "mean = st.mean(trial_results)\n",
    "stdev = st.stdev(trial_results)\n",
    "plt.vlines(mean, ymin, ymax, color=\"red\")\n",
    "plt.vlines([mean - 2 * stdev, mean - stdev, mean + stdev, mean + 2 * stdev], ymin, ymax, linestyles=\"dashed\", color=\"red\")\n",
    "plt.text(1.7, 4800, \"Mean is solid line\")\n",
    "plt.text(1.7, 4000, \"StDev 1,2\")\n",
    "plt.text(1.7, 3500, \"are dashed lines\")\n",
    "plt.show()"
   ]
  },
  {
   "cell_type": "code",
   "execution_count": 43,
   "metadata": {
    "collapsed": false,
    "scrolled": false
   },
   "outputs": [
    {
     "data": {
      "image/png": "[encoded data removed]",
      "text/plain": [
       "<matplotlib.figure.Figure at 0x108e2bf28>"
      ]
     },
     "metadata": {},
     "output_type": "display_data"
    }
   ],
   "source": [
    "plt.hist(trial_by_1000, bins=75)\n",
    "plt.xlabel(\"Ratio\")\n",
    "plt.ylabel(\"Frequency\")\n",
    "plt.title(\"Ratio of Heads/Tails by Frequency\")\n",
    "ymin, ymax = plt.ylim()\n",
    "mean = st.mean(trial_by_1000)\n",
    "stdev = st.stdev(trial_by_1000)\n",
    "plt.vlines(mean, ymin, ymax, color=\"red\")\n",
    "plt.vlines([mean - 2 * stdev, mean - stdev, mean + stdev, mean + 2 * stdev], ymin, ymax, linestyles=\"dashed\", color=\"red\")\n",
    "plt.text(1.2, 4800, \"Mean is solid line\")\n",
    "plt.text(1.2, 4000, \"StDev 1,2\")\n",
    "plt.text(1.2, 3500, \"are dashed lines\")\n",
    "plt.show()"
   ]
  },
  {
   "cell_type": "markdown",
   "metadata": {},
   "source": [
    "Notes: The bell curve comes closer to 0 because the amount of flips increases from 100 to 1000 per round. "
   ]
  },
  {
   "cell_type": "code",
   "execution_count": 63,
   "metadata": {
    "collapsed": false
   },
   "outputs": [
    {
     "data": {
      "image/png": "[encoded data removed]",
      "text/plain": [
       "<matplotlib.figure.Figure at 0x10849e0f0>"
      ]
     },
     "metadata": {},
     "output_type": "display_data"
    }
   ],
   "source": [
    "plt.boxplot([trial_by_1000, trial_results])\n",
    "ymin, ymax = plt.ylim()\n",
    "plt.ylim(ymin - .1, ymax + .2)\n",
    "plt.title(\"Comparison of Ratios Heads/Tails 1000 and 100\")\n",
    "plt.ylabel(\"Ratio\")\n",
    "plt.xticks(range(1,3), [\"Trial by 1000\", \"Trial by 100\"])\n",
    "plt.annotate('Outliers decrease', xy=(1, 1.25),\n",
    "                xytext=(1.15, 2.5),arrowprops=dict(facecolor='black', shrink=0.05),)\n",
    "plt.show()"
   ]
  },
  {
   "cell_type": "markdown",
   "metadata": {
    "collapsed": true
   },
   "source": [
    "Notes: The outliers become less as the number of flips per round increases by 10. "
   ]
  },
  {
   "cell_type": "code",
   "execution_count": null,
   "metadata": {
    "collapsed": false
   },
   "outputs": [],
   "source": []
  },
  {
   "cell_type": "code",
   "execution_count": null,
   "metadata": {
    "collapsed": true
   },
   "outputs": [],
   "source": []
  }
 ],
 "metadata": {
  "kernelspec": {
   "display_name": "Python 3",
   "language": "python",
   "name": "python3"
  },
  "language_info": {
   "codemirror_mode": {
    "name": "ipython",
    "version": 3
   },
   "file_extension": ".py",
   "mimetype": "text/x-python",
   "name": "python",
   "nbconvert_exporter": "python",
   "pygments_lexer": "ipython3",
   "version": "3.4.3"
  }
 },
 "nbformat": 4,
 "nbformat_minor": 0
}
